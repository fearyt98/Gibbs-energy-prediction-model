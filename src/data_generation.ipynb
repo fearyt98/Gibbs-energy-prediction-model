{
 "cells": [
  {
   "attachments": {},
   "cell_type": "markdown",
   "metadata": {},
   "source": [
    "### Packages"
   ]
  },
  {
   "cell_type": "code",
   "execution_count": 1,
   "metadata": {},
   "outputs": [],
   "source": [
    "%pip install numpy \n",
    "%pip install pandas \n",
    "%pip install pycalphad "
   ]
  },
  {
   "cell_type": "code",
   "execution_count": null,
   "metadata": {},
   "outputs": [],
   "source": [
    "import numpy as np\n",
    "import pandas as pd\n",
    "import itertools as itr\n",
    "from pycalphad import Database, equilibrium\n",
    "from pycalphad import variables as v\n",
    "\n",
    "# here must be path for calphad version database\n",
    "db = Database('')"
   ]
  },
  {
   "attachments": {},
   "cell_type": "markdown",
   "metadata": {},
   "source": [
    "### Metals, phases and elements"
   ]
  },
  {
   "cell_type": "code",
   "execution_count": 2,
   "metadata": {},
   "outputs": [],
   "source": [
    "metals = (\n",
    "        'LI','BE','NA','MG','AL','K','CA','SC','TI','V','CR','MN','FE',\n",
    "        'CO','NI','CU','ZN','GA','Y','ZR','NB','MO','TC',\n",
    "        'RH','PD','AG','CD','IN','SN','BA','LA','CE','PR','ND','PM','SM','EU',\n",
    "        'GD','TB','DY','HO','ER','HF','TA','W','RE','OS','IR',\n",
    "        'PT','AU','HG','TL','PB','BI', 'C', \"SI\")\n",
    "main_phases = list(db.phases.keys())\n",
    "main_elements = list(db.elements)"
   ]
  },
  {
   "attachments": {},
   "cell_type": "markdown",
   "metadata": {},
   "source": [
    "### Data processing functions"
   ]
  },
  {
   "cell_type": "code",
   "execution_count": 5,
   "metadata": {},
   "outputs": [],
   "source": [
    "def binary_gb_en(t_start, t_step, w_step, main_eq, main_met, conc_met):\n",
    "    '''\n",
    "    Results processing function for binary system\n",
    "\n",
    "    t_start : initial temperature\n",
    "    t_step : temperature step\n",
    "    w_step : concentration step\n",
    "    main_eq : the results of the calculation of the Gibbs energy by conditions and elements (pycaplhad)\n",
    "    main_met : main element\n",
    "    conc_met : concentration element\n",
    "\n",
    "    Returns the result as a dataframe (pandas)\n",
    "    '''\n",
    "    dataframe = pd.DataFrame(columns=['t','materials','conc','G','NP', 'Phases']) \n",
    "    t_temp = t_start \n",
    "    for id_t, item in enumerate(main_eq.GM[0][0]):\n",
    "        temp_arr = item.values\n",
    "        for ind_g, value_g in enumerate(temp_arr):\n",
    "            dataframe.loc[len(dataframe)] = [\n",
    "                t_temp, \n",
    "                (main_met, conc_met), \n",
    "                [w_step * (ind_g+1)], \n",
    "                value_g, \n",
    "                main_eq.NP[0][0][id_t][ind_g].values.tolist(), \n",
    "                main_eq.Phase[0][0][id_t][ind_g].values.tolist()]\n",
    "        t_temp = t_temp + t_step\n",
    "    return dataframe\n",
    "\n",
    "def ternary_gb_en(t_start, t_step, main_eq, main_met, conc_met_f, conc_met_s, w_conc_f, w_conc_s):\n",
    "    '''\n",
    "    Results processing function for ternary system\n",
    "\n",
    "    t_start : initial temperature\n",
    "    t_step : temperature step\n",
    "    main_eq : the results of the calculation of the Gibbs energy by conditions and elements (pycaplhad)\n",
    "    main_met : main element\n",
    "    conc_met_f : first element\n",
    "    conc_met_s : second element\n",
    "    w_conc_f : concentration of the first element\n",
    "    w_conc_s : concentration of the second element\n",
    "\n",
    "    Returns the result as a dataframe (pandas)\n",
    "    '''\n",
    "    dataframe = pd.DataFrame(columns=['t','materials','conc','G','NP', 'Phases']) \n",
    "    t_temp = t_start \n",
    "    for id_t, item in enumerate(main_eq.GM[0][0]):\n",
    "        dataframe.loc[len(dataframe)] = [\n",
    "            t_temp, \n",
    "            (main_met, conc_met_f, conc_met_s), \n",
    "            [w_conc_f, w_conc_s],\n",
    "            item[0][0].values.tolist(), \n",
    "            main_eq.NP[0][0][id_t][0][0].values.tolist(), \n",
    "            main_eq.Phase[0][0][id_t][0][0].values.tolist()]\n",
    "        t_temp = t_temp + t_step\n",
    "    return dataframe"
   ]
  },
  {
   "attachments": {},
   "cell_type": "markdown",
   "metadata": {},
   "source": [
    "### Training data"
   ]
  },
  {
   "cell_type": "code",
   "execution_count": null,
   "metadata": {},
   "outputs": [],
   "source": [
    "# pressure\n",
    "P = 101325\n",
    "\n",
    "# mole\n",
    "N = 1\n",
    "\n",
    "# elements concentration\n",
    "w_step = 0.1\n",
    "w_start = 0\n",
    "w_end = 1\n",
    "\n",
    "# temperature\n",
    "t_step = 40\n",
    "t_start = 298\n",
    "t_end = 3000\n",
    "\n",
    "# binary - 2, ternary - 3\n",
    "num_elements = 3\n",
    "\n",
    "# Gibbs energy and phase data generation for binary systems\n",
    "if num_elements == 2:\n",
    "    combinations = itr.combinations(metals, 2)\n",
    "    for i, j in itr.islice(combinations, 0, None): \n",
    "        try:\n",
    "            elem = [i, j]\n",
    "            cond = {v.X(j):(w_start, w_end, w_step), v.T:(t_start, t_end, t_step), v.P:P, v.N: N}\n",
    "            main_eq = equilibrium(db, elem, main_phases, cond, output=\"GM\")\n",
    "            df_temp = binary_gb_en(t_start, t_step, w_step, main_eq, i, j)\n",
    "            df_temp.to_csv('binary.csv', mode='a', index=False, header=False)\n",
    "        except:\n",
    "            with open('gb_errors_binary.txt', 'a') as errors:\n",
    "                errors.write(str(elem))\n",
    "        with open('last_mets_binary.txt', 'w') as last:\n",
    "            last.write(str(elem))\n",
    "\n",
    "# Gibbs energy and phase data generation for ternary systems\n",
    "elif num_elements == 3:\n",
    "    combinations = itr.combinations(metals, 3)\n",
    "    accuracy = 1\n",
    "    conc = np.arange(w_start, w_end, w_step)\n",
    "    w = itr.product(conc, conc) \n",
    "\n",
    "    # array of concentrations for the second and third element in the ternary system, first like (1-s-th)\n",
    "    conc_array = []\n",
    "    for i, k in w:\n",
    "        if i+k < 1 and i !=0 and k !=0: conc_array.append((np.round_(i, accuracy),np.round_(k, accuracy)))\n",
    "    conc_array = np.asarray(conc_array)\n",
    "\n",
    "    for i, j, k in itr.islice(combinations, 0, None):\n",
    "        df_temp = pd.DataFrame(columns=['t','materials','conc','G','NP', 'Phases'])\n",
    "        elem = [i, j, k]\n",
    "        try:\n",
    "            for item in conc_array: \n",
    "                cond = {v.X(j):(item[0]), v.X(k):(item[1]), v.T:(t_start, t_end, t_step), v.P:P, v.N: N}\n",
    "                main_eq = equilibrium(db, elem, main_phases, cond, output=\"GM\")\n",
    "                df_temp = pd.concat([df_temp, ternary_gb_en(t_start, t_step, main_eq, i, j, k, item[0], item[1])])\n",
    "            df_temp.to_csv('ternary.csv', mode='a', index=False, header=False)\n",
    "            del df_temp\n",
    "        except:\n",
    "            with open('gb_errors_ternary.txt', 'a') as errors:\n",
    "                errors.write(str(elem))\n",
    "        with open('last_mets_ternary.txt', 'w') as last:\n",
    "            last.write(str(elem))\n"
   ]
  },
  {
   "attachments": {},
   "cell_type": "markdown",
   "metadata": {},
   "source": [
    "### Validation data (randomize)"
   ]
  },
  {
   "cell_type": "code",
   "execution_count": null,
   "metadata": {},
   "outputs": [],
   "source": [
    "import random\n",
    "import traceback\n",
    "\n",
    "# pressure\n",
    "P = 101325\n",
    "# mole\n",
    "N = 1\n",
    "# elements concentration\n",
    "w_step = 0.18\n",
    "w_start = 0\n",
    "w_end = 1\n",
    "# temperature\n",
    "t_step = 325\n",
    "t_start = 298.15\n",
    "t_end = 3000\n",
    "\n",
    "# random choice elements\n",
    "combinations = itr.combinations(metals, 2)\n",
    "combinations_ind = []\n",
    "for i in range(0, 30, 1):\n",
    "    combinations_ind.append(random.randint(1, 1540))\n",
    "combinations_ind = np.unique(combinations_ind)\n",
    "\n",
    "print(combinations_ind)\n",
    "\n",
    "count = 0\n",
    "\n",
    "# Gibbs energy and phase data generation for binary systems\n",
    "for i, j in itr.islice(combinations, 0, None):\n",
    "    if count in combinations_ind:\n",
    "        try:\n",
    "            elem = [i, j]\n",
    "            cond = {v.X(j):(w_start, w_end-w_step, w_step), v.T:(t_start, t_end, t_step), v.P:P, v.N: N}\n",
    "            main_eq = equilibrium(db, elem, main_phases, cond, output=\"GM\")\n",
    "            df_temp = binary_gb_en(t_start, t_step, w_step, main_eq, i, j)\n",
    "            df_temp.to_csv('test.csv', mode='a', index=False, header=False)\n",
    "        except:\n",
    "            print(traceback.format_exc())\n",
    "            with open('valid_gb_errors.txt', 'a') as errors:\n",
    "                errors.write(str(elem))\n",
    "        with open('valid_last_mets.txt', 'w') as last:\n",
    "            last.write(str(elem))\n",
    "    count += 1"
   ]
  },
  {
   "attachments": {},
   "cell_type": "markdown",
   "metadata": {},
   "source": [
    "### Misc"
   ]
  },
  {
   "cell_type": "code",
   "execution_count": null,
   "metadata": {},
   "outputs": [],
   "source": [
    "data = pd.concat([\n",
    "    pd.read_csv('test.csv', sep=',', names=['t','materials','conc','G','NP', 'Phases']), \n",
    "    pd.read_csv('test.csv', sep=',', names=['t','materials','conc','G','NP', 'Phases'])\n",
    "    ])\n",
    "data.describe()"
   ]
  },
  {
   "cell_type": "code",
   "execution_count": null,
   "metadata": {},
   "outputs": [],
   "source": [
    "combinations = itr.combinations(metals, 3)\n",
    "for i, k, m in itr.islice(combinations, 0, None):\n",
    "    print(i,k,m)"
   ]
  }
 ],
 "metadata": {
  "kernelspec": {
   "display_name": "physics",
   "language": "python",
   "name": "physics"
  },
  "language_info": {
   "codemirror_mode": {
    "name": "ipython",
    "version": 3
   },
   "file_extension": ".py",
   "mimetype": "text/x-python",
   "name": "python",
   "nbconvert_exporter": "python",
   "pygments_lexer": "ipython3",
   "version": "3.10.6"
  },
  "orig_nbformat": 4,
  "vscode": {
   "interpreter": {
    "hash": "369f2c481f4da34e4445cda3fffd2e751bd1c4d706f27375911949ba6bb62e1c"
   }
  }
 },
 "nbformat": 4,
 "nbformat_minor": 2
}
